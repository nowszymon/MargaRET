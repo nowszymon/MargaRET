{
 "cells": [
  {
   "cell_type": "code",
   "execution_count": 1,
   "metadata": {
    "collapsed": false
   },
   "outputs": [],
   "source": [
    "import pandas as pd\n",
    "from pandas_datareader import data, wb\n",
    "import matplotlib.pyplot as plt\n",
    "import seaborn as sns\n",
    "import datetime\n",
    "import numpy as np\n",
    "%matplotlib inline "
   ]
  },
  {
   "cell_type": "code",
   "execution_count": 61,
   "metadata": {
    "collapsed": false
   },
   "outputs": [],
   "source": [
    "#change it to inputs\n",
    "instrument = 'EUR' \n",
    "start_date = datetime.datetime(2012,1,1)"
   ]
  },
  {
   "cell_type": "code",
   "execution_count": 62,
   "metadata": {
    "collapsed": false
   },
   "outputs": [],
   "source": [
    "imported_data = data.DataReader(instrument, 'google',start=start_date)"
   ]
  },
  {
   "cell_type": "code",
   "execution_count": 63,
   "metadata": {
    "collapsed": false
   },
   "outputs": [],
   "source": [
    "imported_data.drop(imported_data.columns[[0,1,2,4]], axis=1, inplace=True)"
   ]
  },
  {
   "cell_type": "code",
   "execution_count": 64,
   "metadata": {
    "collapsed": false,
    "scrolled": true
   },
   "outputs": [],
   "source": [
    "imported_data.reset_index(inplace=True)\n",
    "imported_data['Index'] = imported_data.index\n",
    "imported_data.set_index('Date', inplace=True)"
   ]
  },
  {
   "cell_type": "code",
   "execution_count": 65,
   "metadata": {
    "collapsed": false
   },
   "outputs": [],
   "source": [
    "#change to inputs\n",
    "start_of_actual_period = datetime.datetime(2016,2,1)\n",
    "end_of_actual_period = datetime.datetime(2016,3,2)"
   ]
  },
  {
   "cell_type": "code",
   "execution_count": 66,
   "metadata": {
    "collapsed": false
   },
   "outputs": [],
   "source": [
    "range_of_data = end_of_actual_period - start_of_actual_period\n",
    "range_of_data = range_of_data.days"
   ]
  },
  {
   "cell_type": "code",
   "execution_count": 67,
   "metadata": {
    "collapsed": false,
    "scrolled": false
   },
   "outputs": [],
   "source": [
    "#add column with selected slice of data\n",
    "table = pd.DataFrame()\n",
    "index_of_start_of_actual_period = imported_data.loc[start_of_actual_period][1]\n",
    "for day in range(0,range_of_data+1):\n",
    "    table.loc[day, 'Close'] = imported_data.iloc[int(index_of_start_of_actual_period)][0]\n",
    "    index_of_start_of_actual_period += 1\n",
    "index_of_start_of_actual_period = imported_data.loc[start_of_actual_period][1]"
   ]
  },
  {
   "cell_type": "code",
   "execution_count": 74,
   "metadata": {
    "collapsed": false
   },
   "outputs": [],
   "source": [
    "#add columns with range_of_data slices\n",
    "for slice in range(0,len(imported_data)-range_of_data):\n",
    "    next = slice\n",
    "    for index in range(0,range_of_data+1):\n",
    "        table.loc[index,slice] = imported_data.iloc[next][0]\n",
    "        next += 1 "
   ]
  },
  {
   "cell_type": "code",
   "execution_count": 92,
   "metadata": {
    "collapsed": false
   },
   "outputs": [],
   "source": [
    "#calculate correlation coefficients \n",
    "correlation_table = pd.DataFrame()\n",
    "for data in range(1,len(imported_data)-range_of_data):\n",
    "    correlation_table.loc[data-1,'Correlation'] = np.corrcoef(table['Close'],table.ix[:,data])[1][0]"
   ]
  },
  {
   "cell_type": "code",
   "execution_count": null,
   "metadata": {
    "collapsed": true
   },
   "outputs": [],
   "source": []
  }
 ],
 "metadata": {
  "anaconda-cloud": {},
  "kernelspec": {
   "display_name": "Python [conda root]",
   "language": "python",
   "name": "conda-root-py"
  },
  "language_info": {
   "codemirror_mode": {
    "name": "ipython",
    "version": 3
   },
   "file_extension": ".py",
   "mimetype": "text/x-python",
   "name": "python",
   "nbconvert_exporter": "python",
   "pygments_lexer": "ipython3",
   "version": "3.5.2"
  }
 },
 "nbformat": 4,
 "nbformat_minor": 1
}
