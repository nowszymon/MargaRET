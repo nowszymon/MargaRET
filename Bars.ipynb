{
 "cells": [
  {
   "cell_type": "code",
   "execution_count": 1,
   "metadata": {
    "collapsed": false
   },
   "outputs": [],
   "source": [
    "import pandas as pd\n",
    "from pandas_datareader import data, wb\n",
    "import seaborn as sns\n",
    "import numpy as np\n",
    "import datetime\n",
    "%matplotlib inline "
   ]
  },
  {
   "cell_type": "code",
   "execution_count": 2,
   "metadata": {
    "collapsed": false
   },
   "outputs": [],
   "source": [
    "#change it to inputs\n",
    "instrument = 'EUR=X' \n",
    "start_date = datetime.datetime(2004,1,1)\n",
    "imported_data = data.DataReader(instrument, 'yahoo',start=start_date)"
   ]
  },
  {
   "cell_type": "code",
   "execution_count": 3,
   "metadata": {
    "collapsed": false
   },
   "outputs": [],
   "source": [
    "imported_data.drop(['Volume','Adj Close'],axis=1,inplace=True)"
   ]
  },
  {
   "cell_type": "code",
   "execution_count": 4,
   "metadata": {
    "collapsed": false
   },
   "outputs": [],
   "source": [
    "imported_data['N_Open'] = \"\"\n",
    "imported_data['N_High'] = \"\"\n",
    "imported_data['N_Low'] = \"\"\n",
    "imported_data['N_Close'] = \"\"\n",
    "for quote in range(0,len(imported_data)):\n",
    "    imported_data.iloc[quote,4] = 1/imported_data.iloc[quote,0]\n",
    "    imported_data.iloc[quote,5] = 1/imported_data.iloc[quote,1]\n",
    "    imported_data.iloc[quote,6] = 1/imported_data.iloc[quote,2]\n",
    "    imported_data.iloc[quote,7] = 1/imported_data.iloc[quote,3]\n",
    "imported_data.drop(['Open', 'High','Low','Close'],axis=1,inplace=True)\n",
    "imported_data.rename(columns={'N_Open':'Open','N_High':'High','N_Low':'Low','N_Close':'Close'}, inplace=True)"
   ]
  },
  {
   "cell_type": "code",
   "execution_count": 5,
   "metadata": {
    "collapsed": false
   },
   "outputs": [],
   "source": [
    "imported_data['Count'] = \"\"\n",
    "for price in range(0,len(imported_data)):\n",
    "    if imported_data.iloc[price,3] > imported_data.iloc[price,0]:\n",
    "        imported_data.iloc[price,4] = 1 \n",
    "    elif imported_data.iloc[price,3] < imported_data.iloc[price,0]:\n",
    "        imported_data.iloc[price,4] = -1"
   ]
  },
  {
   "cell_type": "code",
   "execution_count": 6,
   "metadata": {
    "collapsed": false
   },
   "outputs": [],
   "source": [
    "agg_plus = int(1)\n",
    "agg_minus = int(-1)\n",
    "imported_data['Sum'] = \"\"\n",
    "for count in range(0,len(imported_data)-1):\n",
    "    if (imported_data.iloc[count+1,4] == imported_data.iloc[count,4]) & (imported_data.iloc[count+1,4] == 1) :\n",
    "        agg_plus += int(1)\n",
    "        imported_data.iloc[count+1,5] = int(agg_plus)\n",
    "    elif (imported_data.iloc[count+1,4] == imported_data.iloc[count,4]) & (imported_data.iloc[count+1,4] == -1) :\n",
    "        agg_minus += int(-1)\n",
    "        imported_data.iloc[count+1,5] = int(agg_minus)\n",
    "    elif (imported_data.iloc[count+1,4] != imported_data.iloc[count,4]) & (imported_data.iloc[count+1,4] == 1) :\n",
    "        imported_data.iloc[count+1,5] = int(1)\n",
    "    elif (imported_data.iloc[count+1,4] != imported_data.iloc[count,4]) & (imported_data.iloc[count+1,4] == -1) :\n",
    "        imported_data.iloc[count+1,5] = int(-1)\n",
    "    else:\n",
    "         imported_data.iloc[count+1,5] = 0\n",
    "    \n",
    "    if imported_data.iloc[count+1,4] != imported_data.iloc[count,4]:\n",
    "        agg_plus = int(1)\n",
    "        agg_minus = int(-1)\n",
    "        \n",
    "imported_data.iloc[0,5] = imported_data.iloc[0,4]    "
   ]
  },
  {
   "cell_type": "code",
   "execution_count": 21,
   "metadata": {
    "collapsed": false
   },
   "outputs": [
    {
     "data": {
      "text/plain": [
       "<matplotlib.axes._subplots.AxesSubplot at 0xcf3f080>"
      ]
     },
     "execution_count": 21,
     "metadata": {},
     "output_type": "execute_result"
    },
    {
     "data": {
      "image/png": "[encoded data removed]",
      "text/plain": [
       "<matplotlib.figure.Figure at 0xceb67b8>"
      ]
     },
     "metadata": {},
     "output_type": "display_data"
    }
   ],
   "source": [
    "bar = pd.DataFrame(imported_data['Sum'].value_counts())\n",
    "bar = bar.sort_index()\n",
    "bar.plot(kind='bar', title='Number of downward(-)/upward(+) candles in a row \\n\\n 2004 - present \\nEURUSD', legend='')\n"
   ]
  },
  {
   "cell_type": "code",
   "execution_count": null,
   "metadata": {
    "collapsed": true
   },
   "outputs": [],
   "source": []
  },
  {
   "cell_type": "code",
   "execution_count": null,
   "metadata": {
    "collapsed": true
   },
   "outputs": [],
   "source": []
  }
 ],
 "metadata": {
  "anaconda-cloud": {},
  "kernelspec": {
   "display_name": "Python [conda root]",
   "language": "python",
   "name": "conda-root-py"
  },
  "language_info": {
   "codemirror_mode": {
    "name": "ipython",
    "version": 3
   },
   "file_extension": ".py",
   "mimetype": "text/x-python",
   "name": "python",
   "nbconvert_exporter": "python",
   "pygments_lexer": "ipython3",
   "version": "3.5.2"
  }
 },
 "nbformat": 4,
 "nbformat_minor": 1
}
